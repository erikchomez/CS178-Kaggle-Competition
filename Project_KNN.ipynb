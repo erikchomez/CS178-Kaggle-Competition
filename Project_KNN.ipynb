{
 "cells": [
  {
   "cell_type": "code",
   "execution_count": 10,
   "metadata": {},
   "outputs": [
    {
     "name": "stdout",
     "output_type": "stream",
     "text": [
      "7.565414905548096\n"
     ]
    }
   ],
   "source": [
    "import mltools as ml\n",
    "import numpy as np \n",
    "import matplotlib.pyplot as plt\n",
    "import time\n",
    "start = time.time()\n",
    "Xtest = np.genfromtxt(\"X_test.txt\", delimiter = None)\n",
    "Xtrain = np.genfromtxt(\"X_train.txt\", delimiter = None)\n",
    "#Yrandom = np.genfromtxt(\"Y_random.txt\", delimiter = None)\n",
    "Ytrain = np.genfromtxt(\"Y_train.txt\", delimiter = None)\n",
    "end = time.time()\n",
    "print(end- start)"
   ]
  },
  {
   "cell_type": "code",
   "execution_count": 11,
   "metadata": {},
   "outputs": [
    {
     "name": "stdout",
     "output_type": "stream",
     "text": [
      "(200000, 14)\n",
      "(200000, 14)\n",
      "(200000,)\n"
     ]
    }
   ],
   "source": [
    "print(Xtrain.shape)\n",
    "#200000 data, 14 features\n",
    "print(Xtest.shape)\n",
    "print(Ytrain.shape)\n"
   ]
  },
  {
   "cell_type": "code",
   "execution_count": 12,
   "metadata": {},
   "outputs": [
    {
     "name": "stdout",
     "output_type": "stream",
     "text": [
      "(200000, 14)\n",
      "(20000, 14)\n"
     ]
    }
   ],
   "source": [
    "X,Y = ml.shuffleData(Xtrain, Ytrain)\n",
    "Xtrain = Xtrain[0:20000]\n",
    "Ytrain = Ytrain[0:20000]\n",
    "X_T,Y_T = ml.shuffleData(Xtrain,Ytrain)\n",
    "Xtr,Xva, Ytr, Yva = ml.splitData(X_T,Y_T, .50)\n",
    "print(X.shape)\n",
    "print(X_T.shape)"
   ]
  },
  {
   "cell_type": "code",
   "execution_count": 13,
   "metadata": {},
   "outputs": [
    {
     "data": {
      "image/png": "[encoded data removed]",
      "text/plain": [
       "<Figure size 432x288 with 1 Axes>"
      ]
     },
     "metadata": {
      "needs_background": "light"
     },
     "output_type": "display_data"
    },
    {
     "name": "stdout",
     "output_type": "stream",
     "text": [
      "2086.07245016098\n"
     ]
    }
   ],
   "source": [
    "start = time.time()\n",
    "K = [1,2,5,10,50,100,200] \n",
    "errTrain = np.zeros((len(K),))\n",
    "errValue = np.zeros((len(K),))\n",
    "for i,k in enumerate(K):\n",
    "    learner = ml.knn.knnClassify(Xtr,Ytr,k)\n",
    "    Yhat = learner.predict(Xva)\n",
    "    errTrain[i] = learner.err(Xtr, Ytr)\n",
    "for i,k in enumerate(K):\n",
    "    learner = ml.knn.knnClassify(Xtr,Ytr,k)\n",
    "    Yhat = learner.predict(Xva)\n",
    "    errValue[i] = learner.err(Xva, Yva)\n",
    "    \n",
    "plt.semilogx(K, errTrain, \"r-\", lw=3, label = \"Training\") # red is train, green for validation\n",
    "plt.semilogx(K, errValue, \"g-\", lw=3, label = \"Validation\")\n",
    "plt.legend()\n",
    "plt.show()\n",
    "end = time.time()\n",
    "print(end - start)"
   ]
  },
  {
   "cell_type": "code",
   "execution_count": 19,
   "metadata": {},
   "outputs": [],
   "source": [
    "learner = ml.knn.knnClassify(X, Y, 3)\n",
    "# Xte = np.genfromtxt('X_test.txt', delimiter=None)\n",
    "# Yte = np.vstack((np.arange(Xte.shape[0]), learner.predictSoft(Xte)[:,1])).T\n",
    "# np.savetxt('Knn_Submit.txt',Yte,'%d, %.2f',header='ID,Prob1',comments='',delimiter=',')"
   ]
  },
  {
   "cell_type": "code",
   "execution_count": 20,
   "metadata": {},
   "outputs": [
    {
     "name": "stdout",
     "output_type": "stream",
     "text": [
      "knn classifier, 2 classes, K=3\n"
     ]
    }
   ],
   "source": [
    "print(learner)"
   ]
  },
  {
   "cell_type": "code",
   "execution_count": 21,
   "metadata": {},
   "outputs": [],
   "source": [
    "Xte = np.genfromtxt('X_test.txt', delimiter=None)\n",
    "Yte = np.vstack((np.arange(Xte.shape[0]), learner.predictSoft(Xte)[:,1])).T\n",
    "np.savetxt('Knn_Submit.txt',Yte,'%d, %.2f',header='ID,Prob1',comments='',delimiter=',')"
   ]
  },
  {
   "cell_type": "code",
   "execution_count": null,
   "metadata": {},
   "outputs": [],
   "source": []
  }
 ],
 "metadata": {
  "kernelspec": {
   "display_name": "Python 3",
   "language": "python",
   "name": "python3"
  },
  "language_info": {
   "codemirror_mode": {
    "name": "ipython",
    "version": 3
   },
   "file_extension": ".py",
   "mimetype": "text/x-python",
   "name": "python",
   "nbconvert_exporter": "python",
   "pygments_lexer": "ipython3",
   "version": "3.7.4"
  }
 },
 "nbformat": 4,
 "nbformat_minor": 4
}
